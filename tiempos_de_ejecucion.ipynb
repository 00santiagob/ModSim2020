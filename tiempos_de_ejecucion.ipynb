{
 "cells": [
  {
   "cell_type": "markdown",
   "metadata": {},
   "source": [
    "# Simulación de variables aleatorias discretas\n",
    "    "
   ]
  },
  {
   "cell_type": "code",
   "execution_count": null,
   "metadata": {},
   "outputs": [],
   "source": [
    "from numpy import exp, log\n",
    "import numpy as np\n",
    "from random import random\n",
    "import matplotlib.pyplot as plt\n",
    "from timeit import timeit as timeit\n"
   ]
  },
  {
   "cell_type": "markdown",
   "metadata": {},
   "source": [
    "<font color = green size = 5pt>\n",
    "Ordenamiento de las probabilidades de mayor a menor\n",
    "</font>"
   ]
  },
  {
   "cell_type": "code",
   "execution_count": null,
   "metadata": {},
   "outputs": [],
   "source": [
    "def TInversa_sin_ordenar(u):\n",
    "    if u<0.20:\n",
    "        return 1\n",
    "    elif u<0.35:\n",
    "        return 2\n",
    "    elif u<0.60:\n",
    "        return 3\n",
    "    else:\n",
    "        return 4"
   ]
  },
  {
   "cell_type": "code",
   "execution_count": null,
   "metadata": {},
   "outputs": [],
   "source": [
    "def TInversa_ordenados(u):\n",
    "    if u<0.40:\n",
    "        return 4\n",
    "    elif u<0.65:\n",
    "        return 3\n",
    "    elif u<0.80:\n",
    "        return 1\n",
    "    else:\n",
    "        return 2"
   ]
  },
  {
   "cell_type": "code",
   "execution_count": null,
   "metadata": {},
   "outputs": [],
   "source": [
    "### Comparación de tiempos:\n",
    "n = 100\n",
    "no_ordenados = [0] * n\n",
    "ordenados = [0] * n\n",
    "\n",
    "\n",
    "for u in range(n):\n",
    "    no_ordenados[u] = timeit(\"TInversa_sin_ordenar(u/n)\", number = 100000, globals = globals())\n",
    "    ordenados[u] = timeit(setup = \"TInversa_ordenados(u/n)\", number = 100000, globals = globals())"
   ]
  },
  {
   "cell_type": "code",
   "execution_count": null,
   "metadata": {},
   "outputs": [],
   "source": [
    "fig, ax = plt.subplots(figsize = (15,3))\n",
    "ax.plot(no_ordenados, 'r', label = 'sin ordenar')\n",
    "ax.plot(ordenados, 'b', label = 'ordenados')\n",
    "ax.set_xticklabels([str(i/5.) for i in range(6)])\n",
    "ax.set_xticks([i for i in range(0,101,20)])\n",
    "ax.set_xlabel('u')\n",
    "ax.set_ylabel('tiempo por ejecución')\n",
    "\n",
    "ax.legend(loc = 'best')\n",
    "\n",
    "plt.suptitle('Comparación de tiempos de corrida')"
   ]
  },
  {
   "cell_type": "markdown",
   "metadata": {},
   "source": [
    "<font color = green size = 6pt>\n",
    "   Binomial\n",
    "    </font>"
   ]
  },
  {
   "cell_type": "code",
   "execution_count": null,
   "metadata": {},
   "outputs": [],
   "source": [
    "def Binomial1(n,p):\n",
    "    'Método de transformada inversa'\n",
    "    U = random()\n",
    "    i = 0\n",
    "    c= p / (1-p)\n",
    "    prob = (1-p) ** n\n",
    "    F = prob\n",
    "    while U >= F:\n",
    "        prob = c * (n-i) / (i+1) * prob\n",
    "        F= F + prob \n",
    "        i = i + 1\n",
    "    return i\n",
    "\n",
    "\n",
    "def Binomial2(n, p):\n",
    "    'Método de TI seleccionando p < 0.5'\n",
    "    if p > 0.5:\n",
    "        return n - Binomial1(n, 1-p)\n",
    "    else:\n",
    "        return Binomial1(n, p)\n",
    "    \n",
    "\n",
    "    "
   ]
  },
  {
   "cell_type": "code",
   "execution_count": null,
   "metadata": {},
   "outputs": [],
   "source": [
    "'''Medición de tiempos de ejecución'''\n",
    "n = 100\n",
    "bin1 = [0] * n\n",
    "bin2 = [0] * n\n",
    "N = 100000\n",
    "for p in range(1,n):\n",
    "    bin1[p] = timeit(\"Binomial1(15, p/n)\", globals = globals(), number = N)\n",
    "    bin2[p] = timeit(\"Binomial2(15, p/n)\", globals = globals(), number = N)\n",
    "\n"
   ]
  },
  {
   "cell_type": "code",
   "execution_count": null,
   "metadata": {},
   "outputs": [],
   "source": [
    "fig, ax = plt.subplots(figsize = (15,4))\n",
    "ax.plot(bin1, 'r', label = 'Binomial normal')\n",
    "ax.plot(bin2, 'b', label = 'Binomial selectiva')\n",
    "ax.set_xlabel('p')\n",
    "ax.set_ylabel('tiempo por ejecución')\n",
    "ax.set_xticklabels([str(i/5.) for i in range(6)])\n",
    "ax.set_xticks([i for i in range(0,101,20)])\n",
    "\n",
    "ax.legend(loc = 'best')\n",
    "ax.set_title('Binomial(15, p)')\n",
    "#plt.suptitle('Comparación de tiempos de corrida')"
   ]
  },
  {
   "cell_type": "code",
   "execution_count": null,
   "metadata": {},
   "outputs": [],
   "source": [
    "from scipy.stats import binom\n",
    "def tasas_riesgo_binomial(n, p):\n",
    "    t_riesgo = np.empty((n+1))\n",
    "    probs = np.asarray([binom(n,p).pmf(i) for i in range(n+1)])\n",
    "    \n",
    "    condicional = 1.\n",
    "    for i in range(n+1):\n",
    "        t_riesgo[i] = probs[i] / condicional\n",
    "        condicional -= probs[i]\n",
    "        \n",
    "    return t_riesgo\n",
    "\n",
    "\n",
    "def Binomial_TR(n, p, t_riesgo):\n",
    "    x = 0\n",
    "    while True:\n",
    "        U = random()\n",
    "        if U < t_riesgo[x]:\n",
    "            return x\n",
    "        else:\n",
    "            x += 1\n",
    "            \n",
    "\n"
   ]
  },
  {
   "cell_type": "code",
   "execution_count": null,
   "metadata": {},
   "outputs": [],
   "source": [
    "'''Medición de tiempos de ejecución'''\n",
    "n = 100\n",
    "bin1 = [0] * n\n",
    "bin2 = [0] * n\n",
    "bin3 = [0] * n\n",
    "N = 10000\n",
    "for p in range(1,n):\n",
    "    bin1[p] = timeit(\"Binomial1(15, p/n)\", globals = globals(), number = N)\n",
    "    bin2[p] = timeit(\"Binomial2(15, p/n)\", globals = globals(), number = N)\n",
    "    t_riesgo = tasas_riesgo_binomial(15,p/n)\n",
    "    bin3[p] = timeit(\"Binomial_TR(15, p/n, t_riesgo)\", globals = globals(), number = N)"
   ]
  },
  {
   "cell_type": "code",
   "execution_count": null,
   "metadata": {},
   "outputs": [],
   "source": [
    "fig, ax = plt.subplots(figsize = (15,4))\n",
    "ax.plot(bin1, 'r', label = 'Binomial normal')\n",
    "ax.plot(bin2, 'b', label = 'Binomial selectiva')\n",
    "ax.plot(bin3, 'g', label = 'Binomial Tasas de riesgo')\n",
    "ax.set_xlabel('p')\n",
    "ax.set_ylabel('tiempo por ejecución')\n",
    "ax.set_xticklabels([str(i/5.) for i in range(6)])\n",
    "ax.set_xticks([i for i in range(0,101,20)])\n",
    "\n",
    "ax.legend(loc = 'best')\n",
    "ax.set_title('Binomial(15, p)')\n",
    "#plt.suptitle('Comparación de tiempos de corrida')"
   ]
  },
  {
   "cell_type": "markdown",
   "metadata": {},
   "source": [
    "   <font color = green size = 6pt>\n",
    "   Geométrica\n",
    "    </font>"
   ]
  },
  {
   "cell_type": "code",
   "execution_count": null,
   "metadata": {},
   "outputs": [],
   "source": [
    "def geom1(p):  \n",
    "    '''aplicando Transformada inversa'''\n",
    "    q = 1-p\n",
    "    F = p\n",
    "    i = 1\n",
    "    U = random()\n",
    "    while U >= F:\n",
    "        p *= q\n",
    "        F += p\n",
    "        i += 1\n",
    "    return i\n",
    "\n",
    "def geom2(p):  \n",
    "    ''' utilizando log(1-U) / log(1-p)'''\n",
    "    U = random()\n",
    "    return int(log(1-U) / log(1-p)) + 1\n",
    "\n",
    "def geom3(p):\n",
    "    '''simulando ensayos Bernoulli hasta obtener un éxito'''\n",
    "    i = 0\n",
    "    while True:\n",
    "        i += 1\n",
    "        if random() < p:\n",
    "            return i"
   ]
  },
  {
   "cell_type": "code",
   "execution_count": null,
   "metadata": {},
   "outputs": [],
   "source": [
    "'''Medición de tiempos de ejecución'''     \n",
    "n = 100\n",
    "metodo1 = [0] * 100\n",
    "metodo2 = [0] * 100\n",
    "metodo3 = [0] * 100\n",
    "\n",
    "for p in range(1, n):\n",
    "    metodo1[p] = timeit(\"geom1(p/n)\", globals = globals(), number = 10000)\n",
    "    metodo2[p] = timeit(\"geom2(p/n)\", globals = globals(), number = 10000)\n",
    "    metodo3[p] = timeit(\"geom3(p/n)\", globals = globals(), number = 10000)"
   ]
  },
  {
   "cell_type": "code",
   "execution_count": null,
   "metadata": {},
   "outputs": [],
   "source": [
    "fig, ax1 = plt.subplots(figsize = (15,3))\n",
    "\n",
    "\n",
    "t = np.arange(1, n, 1)\n",
    "ax1.plot(metodo1, 'r', label = 'Transformada Inversa')\n",
    "ax1.plot(metodo2, 'b', label = 'int(log(1-U)/log(1-p)) + 1')\n",
    "ax1.plot(metodo3, 'g', label = 'Simulando Bernoullis')\n",
    "ax1.set_xticklabels([str(i/5.) for i in range(6)])\n",
    "#ax1.set_xticks([i for i in range(0,101,20)])\n",
    "ax1.set_xlabel('p')\n",
    "ax1.set_ylabel('tiempo por ejecución')\n",
    "\n",
    "ax1.set_title('Métodos de simulación de geométricas')\n",
    "\n",
    "ax1.legend(loc = 'best')"
   ]
  },
  {
   "cell_type": "markdown",
   "metadata": {},
   "source": [
    "<font color = green size = 6pt>\n",
    "Distribución de Poisson\n",
    "</font>"
   ]
  },
  {
   "cell_type": "code",
   "execution_count": null,
   "metadata": {},
   "outputs": [],
   "source": [
    "def Poisson(lamda):\n",
    "    '''Método de transformada inversa'''\n",
    "    U = random() \n",
    "    i = 0; p = exp(-lamda)\n",
    "    F=p\n",
    "    while U >= F:\n",
    "        i += 1        \n",
    "        p *=lamda / i\n",
    "        F = F + p\n",
    "    return i\n",
    "\n",
    "def Poisson_ordenado(L):\n",
    "    I = int(L)\n",
    "    p = exp(-L)\n",
    "    F = p\n",
    "    ## Cálculo de F(I)\n",
    "    for i in range(1,I+1):\n",
    "        p *= L / i\n",
    "        F += p\n",
    "    u=random()\n",
    "    if u>=F: #recorre I, I+1, I+2, ...\n",
    "        while u>F:\n",
    "            I += 1\n",
    "            p *= L/I\n",
    "            F += p\n",
    "        return I\n",
    "    else:\n",
    "        while u < F: #recorre I-1, I-2, ...\n",
    "            F -= p\n",
    "            p *= I / L\n",
    "            I -= 1\n",
    "        return I + 1\n",
    "    \n",
    "def Poisson_con_exp(lamda):\n",
    "    X = 0\n",
    "    Producto = 1 - random()\n",
    "    cota = np.exp(-lamda)\n",
    "    while Producto >= cota:\n",
    "        Producto *= 1- random()\n",
    "        X += 1\n",
    "    return X\n"
   ]
  },
  {
   "cell_type": "code",
   "execution_count": null,
   "metadata": {},
   "outputs": [],
   "source": [
    "\n",
    "metodo_TI = []\n",
    "metodo_TIordenado = []\n",
    "metodo_exp = []\n",
    "'''Medición de tiempos de ejecución'''     \n",
    "\n",
    "\n",
    "for lamda in range(1, 100):\n",
    "    metodo_TI.append( timeit(\"Poisson(lamda)\", globals = globals(), number = 10000))\n",
    "    metodo_TIordenado.append( timeit(\"Poisson_ordenado(lamda)\", globals = globals(), number = 10000))\n",
    "    metodo_exp.append( timeit(\"Poisson_con_exp(lamda)\", globals = globals(), number = 10000))\n",
    "    \n",
    "for lamda in range(100, 300, 10):\n",
    "    metodo_TI.append( timeit(\"Poisson(lamda)\", globals = globals(), number = 10000))\n",
    "    metodo_TIordenado.append( timeit(\"Poisson_ordenado(lamda)\", globals = globals(), number = 10000))\n",
    "    metodo_exp.append( timeit(\"Poisson_con_exp(lamda)\", globals = globals(), number = 10000))\n",
    "\n",
    "    "
   ]
  },
  {
   "cell_type": "code",
   "execution_count": null,
   "metadata": {},
   "outputs": [],
   "source": [
    "fig, [ax1, ax2] = plt.subplots(nrows = 1, ncols = 2, figsize = (15,4))\n",
    "\n",
    "ax1.plot(metodo_TI[:100], 'b', label = 'Transformada inversa')\n",
    "ax1.plot(metodo_TIordenado[:100], 'g', label = 'Probs ordenadas')\n",
    "ax1.plot(metodo_exp[:100], 'r', label = 'con exponenciales')\n",
    "#ax.set_xticks([i for i in range(0,101,20)])\n",
    "ax1.set_xlabel('lambda')\n",
    "ax1.set_ylabel('tiempo por ejecución')\n",
    "\n",
    "ax1.set_title('Métodos de simulación de Poisson')\n",
    "\n",
    "ax1.legend(loc = 'best')\n",
    "\n",
    "ax2.plot(metodo_TI[100:], 'b', label = 'Transformada inversa')\n",
    "ax2.plot(metodo_TIordenado[100:], 'g', label = 'Probs ordenadas')\n",
    "ax2.plot(metodo_exp[100:], 'r', label = 'con exponenciales')\n",
    "ax2.set_xticklabels([str((i-1) * 25  + 100) for i in range(9)])\n",
    "#ax2.set_xticks([i + 100 for i in range(0,101,20)])\n",
    "ax2.set_xlabel('lambda')\n",
    "ax2.set_ylabel('tiempo por ejecución')\n",
    "\n",
    "ax2.set_title('Métodos de simulación de Poisson')\n",
    "\n",
    "ax2.legend(loc = 'best')\n"
   ]
  },
  {
   "cell_type": "code",
   "execution_count": null,
   "metadata": {},
   "outputs": [],
   "source": [
    "\n",
    "    "
   ]
  },
  {
   "cell_type": "markdown",
   "metadata": {},
   "source": []
  }
 ],
 "metadata": {
  "kernelspec": {
   "display_name": "Python 3",
   "language": "python",
   "name": "python3"
  },
  "language_info": {
   "codemirror_mode": {
    "name": "ipython",
    "version": 3
   },
   "file_extension": ".py",
   "mimetype": "text/x-python",
   "name": "python",
   "nbconvert_exporter": "python",
   "pygments_lexer": "ipython3",
   "version": "3.6.7"
  }
 },
 "nbformat": 4,
 "nbformat_minor": 2
}
